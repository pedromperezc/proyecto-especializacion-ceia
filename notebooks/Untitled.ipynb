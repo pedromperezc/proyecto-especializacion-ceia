{
 "cells": [
  {
   "cell_type": "code",
   "execution_count": 4,
   "id": "8cafcf09",
   "metadata": {},
   "outputs": [
    {
     "name": "stdout",
     "output_type": "stream",
     "text": [
      "Using matplotlib backend: Qt5Agg\n"
     ]
    }
   ],
   "source": [
    "#Si queremos que las imágenes sean mostradas en una ventana emergente quitar el inline\n",
    "%matplotlib\n",
    "\n",
    "# OpenCV-Python utiliza NumPy para el manejo de imágenes\n",
    "import numpy as np\n",
    "# cv2 es el módulo python para acceder a OpenCV \n",
    "import cv2 as cv\n",
    "# Usamos las poderosas herramientas de graficación de matplotlib para mostrar imágenes, perfiles, histogramas, etc\n",
    "import matplotlib.pyplot as plt\n",
    "import os"
   ]
  },
  {
   "cell_type": "code",
   "execution_count": 24,
   "id": "a678b0ac",
   "metadata": {},
   "outputs": [],
   "source": [
    "os.chdir('\\..')"
   ]
  },
  {
   "cell_type": "code",
   "execution_count": 25,
   "id": "88dc2e0a",
   "metadata": {},
   "outputs": [],
   "source": [
    "# Cargar una imagen en modo monocromático (un canal)\n",
    "#img = cv.imread('imgBloque1.bmp',cv.IMREAD_GRAYSCALE)\n",
    "img = cv.imread('\\\\Users\\\\pperez\\\\Desktop\\\\Personal\\\\MAESTRIA\\\\proyecto-especializacion-ceia\\\\src\\\\datasets\\\\label\\\\3.png',cv.IMREAD_GRAYSCALE)"
   ]
  },
  {
   "cell_type": "code",
   "execution_count": null,
   "id": "46cca058",
   "metadata": {},
   "outputs": [],
   "source": [
    "lab_img = cv.cvtColor(img)"
   ]
  },
  {
   "cell_type": "code",
   "execution_count": 31,
   "id": "df5c7da7",
   "metadata": {},
   "outputs": [],
   "source": [
    "# create a CLAHE object (Arguments are optional).\n",
    "fig = plt.figure()\n",
    "\n",
    "# Imagen original\n",
    "ax1=plt.subplot(221)\n",
    "ax1.imshow(img, cmap='gray', vmin=0, vmax=255)\n",
    "ax1.set_title('Original')\n",
    "\n",
    "hist1,bins1 = np.histogram(img.ravel(),256,[0,256])\n",
    "ax3=plt.subplot(223)\n",
    "ax3.plot(hist1)\n",
    "\n",
    "clahe = cv.createCLAHE(clipLimit=2.0, tileGridSize=(8,8))\n",
    "img_eqzd = clahe.apply(img)\n",
    "ax2=plt.subplot(222)\n",
    "ax2.imshow(img_eqzd, cmap='gray', vmin=0, vmax=255)\n",
    "ax2.set_title('Ecualizada')\n",
    "\n",
    "hist,bins = np.histogram(img_eqzd.ravel(),256,[0,256])\n",
    "ax4=plt.subplot(224)\n",
    "ax4.plot(hist)\n",
    "fig.show()"
   ]
  },
  {
   "cell_type": "code",
   "execution_count": null,
   "id": "3658c47b",
   "metadata": {},
   "outputs": [],
   "source": []
  }
 ],
 "metadata": {
  "kernelspec": {
   "display_name": "Python 3 (ipykernel)",
   "language": "python",
   "name": "python3"
  },
  "language_info": {
   "codemirror_mode": {
    "name": "ipython",
    "version": 3
   },
   "file_extension": ".py",
   "mimetype": "text/x-python",
   "name": "python",
   "nbconvert_exporter": "python",
   "pygments_lexer": "ipython3",
   "version": "3.8.11"
  }
 },
 "nbformat": 4,
 "nbformat_minor": 5
}
